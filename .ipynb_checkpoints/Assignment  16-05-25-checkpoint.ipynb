{
 "cells": [
  {
   "cell_type": "markdown",
   "id": "5fa7e703",
   "metadata": {},
   "source": [
    "### Question:-1  \n",
    "#### Write a program that swaps the values of two variables\n",
    "\n"
   ]
  },
  {
   "cell_type": "code",
   "execution_count": 3,
   "id": "ac9de245",
   "metadata": {},
   "outputs": [
    {
     "name": "stdout",
     "output_type": "stream",
     "text": [
      "New num1 =  20\n",
      "New num2 =  10\n"
     ]
    }
   ],
   "source": [
    "num1 = 10 \n",
    "num2 = 20\n",
    "\n",
    "num_1 = num2\n",
    "print('New num1 = ',num_1) \n",
    "\n",
    "num_2 = num1\n",
    "print('New num2 = ', num_2)"
   ]
  },
  {
   "cell_type": "markdown",
   "id": "a1c79a30",
   "metadata": {},
   "source": [
    "### Question:-2\n",
    "#### Write a program that calculates the area of ractangle given its length and width.\n"
   ]
  },
  {
   "cell_type": "code",
   "execution_count": 4,
   "id": "121c8ef5",
   "metadata": {},
   "outputs": [
    {
     "name": "stdout",
     "output_type": "stream",
     "text": [
      "The Area of ractangle is  6\n"
     ]
    }
   ],
   "source": [
    "length = 3\n",
    "width = 2\n",
    "\n",
    "area = length*width\n",
    "\n",
    "print('The Area of ractangle is ',area)\n"
   ]
  },
  {
   "cell_type": "markdown",
   "id": "77f07eb7",
   "metadata": {},
   "source": [
    "### Question:-3\n",
    "#### Write a program that converts temperature from fahrenheit to celsius."
   ]
  },
  {
   "cell_type": "code",
   "execution_count": 5,
   "id": "87c1beeb",
   "metadata": {},
   "outputs": [
    {
     "name": "stdout",
     "output_type": "stream",
     "text": [
      "Enter temperature in fahrenheit = 56.8\n",
      "Temperature in Celsius =  13.777777777777777\n"
     ]
    }
   ],
   "source": [
    "f =  float(input('Enter temperature in fahrenheit = '))\n",
    "\n",
    "c = (f-32)*5/9\n",
    "\n",
    "print('Temperature in Celsius = ',c)"
   ]
  },
  {
   "cell_type": "markdown",
   "id": "a2edf028",
   "metadata": {},
   "source": [
    "### Question:-4\n",
    "#### Write a program that calculates the volume of a sphere given its radius."
   ]
  },
  {
   "cell_type": "code",
   "execution_count": 6,
   "id": "501719d8",
   "metadata": {},
   "outputs": [
    {
     "name": "stdout",
     "output_type": "stream",
     "text": [
      "Enter the sphere redius = 4\n",
      "The sphere volume is :  268.0832\n"
     ]
    }
   ],
   "source": [
    "redius = float(input(\"Enter the sphere redius = \"))\n",
    "\n",
    "volume = (4/3)*3.1416*redius*redius*redius\n",
    "\n",
    "print(\"The sphere volume is : \",volume)\n",
    "\n"
   ]
  },
  {
   "cell_type": "markdown",
   "id": "40158f69",
   "metadata": {},
   "source": [
    "### Question:-5\n",
    "#### Write a program that finds the average of three numbers."
   ]
  },
  {
   "cell_type": "code",
   "execution_count": 7,
   "id": "96aa4229",
   "metadata": {},
   "outputs": [
    {
     "name": "stdout",
     "output_type": "stream",
     "text": [
      "Enter the 1st number : 5\n",
      "Enter the 2nd number : 6\n",
      "Enter the 3rd number : 8\n",
      "The average of three numbers is  6.333333333333333\n"
     ]
    }
   ],
   "source": [
    "number1 = float(input(\"Enter the 1st number : \"))\n",
    "number2 = float(input(\"Enter the 2nd number : \"))\n",
    "number3 = float(input(\"Enter the 3rd number : \"))\n",
    "\n",
    "\n",
    "avg = (number1 + number2+ number3)/3\n",
    "\n",
    "print(\"The average of three numbers is \",avg)\n"
   ]
  },
  {
   "cell_type": "markdown",
   "id": "8ff8a372",
   "metadata": {},
   "source": [
    "### Question:-6\n",
    "#### Write a program that determines if a number is even or odd."
   ]
  },
  {
   "cell_type": "code",
   "execution_count": 8,
   "id": "6ecf5480",
   "metadata": {},
   "outputs": [
    {
     "name": "stdout",
     "output_type": "stream",
     "text": [
      "Enter the number : 5\n",
      "The number is Odd\n"
     ]
    }
   ],
   "source": [
    "x = int(input('Enter the number : '))\n",
    "\n",
    "if (x%2 ==0):\n",
    "    print('The number is Even')\n",
    "else:\n",
    "    print('The number is Odd')"
   ]
  },
  {
   "cell_type": "markdown",
   "id": "8e506c34",
   "metadata": {},
   "source": [
    "### Question:-7\n",
    "#### Write a program that finds the maximum of three numbers."
   ]
  },
  {
   "cell_type": "code",
   "execution_count": 9,
   "id": "7d8fe971",
   "metadata": {},
   "outputs": [
    {
     "name": "stdout",
     "output_type": "stream",
     "text": [
      "Enter the 1st number = 23\n",
      "Enter the 2nd number = 26\n",
      "Enter the 3rd number = 98\n",
      "98 is maximum number.\n"
     ]
    }
   ],
   "source": [
    "_num1 = int(input(\"Enter the 1st number = \"))\n",
    "_num2 = int(input(\"Enter the 2nd number = \"))\n",
    "_num3 = int(input(\"Enter the 3rd number = \"))\n",
    "\n",
    "if (_num1>_num2) & (_num1>_num3):\n",
    "    print(_num1 ,'is maximum number.')\n",
    "    \n",
    "elif (_num2>_num1) & (_num2>_num3):\n",
    "    print(_num2 ,'is maximum number.')\n",
    "else:\n",
    "    print(_num3, 'is maximum number.')\n",
    " "
   ]
  },
  {
   "cell_type": "markdown",
   "id": "4ba63d10",
   "metadata": {},
   "source": [
    "### Question:-8\n",
    "#### Write a program that determines if a year is leap year or not ."
   ]
  },
  {
   "cell_type": "code",
   "execution_count": 11,
   "id": "e83bb627",
   "metadata": {},
   "outputs": [
    {
     "name": "stdout",
     "output_type": "stream",
     "text": [
      "Enter the year = 2024\n",
      "2024 is leap year.\n"
     ]
    }
   ],
   "source": [
    "year = int(input(\"Enter the year = \"))\n",
    "\n",
    "if (year%4 ==0) or (year%100 ==0):\n",
    "    print(year, 'is leap year.')\n",
    "    \n",
    "else:\n",
    "    print(year,'is not leap year.')"
   ]
  },
  {
   "cell_type": "markdown",
   "id": "cf1a4fc4",
   "metadata": {},
   "source": [
    "### Question:-9\n",
    "#### Write a program that determines if a number is positive, negative, or zero."
   ]
  },
  {
   "cell_type": "code",
   "execution_count": 12,
   "id": "7cab00e6",
   "metadata": {},
   "outputs": [
    {
     "name": "stdout",
     "output_type": "stream",
     "text": [
      "Enter the number = 5\n",
      "5  is positive number.\n"
     ]
    }
   ],
   "source": [
    "y = int(input('Enter the number = '))\n",
    "\n",
    "if (y>0):\n",
    "    print(y, ' is positive number.')\n",
    "    \n",
    "elif (y<0):\n",
    "    print(y, 'is negative number.')\n",
    "    \n",
    "else:\n",
    "    print(y,\"it's Zero.\")"
   ]
  },
  {
   "cell_type": "markdown",
   "id": "e085cb13",
   "metadata": {},
   "source": [
    "### Question:-10\n",
    "#### Write a program that calculates the grade based on a given percentage."
   ]
  },
  {
   "cell_type": "code",
   "execution_count": 13,
   "id": "40f215f4",
   "metadata": {},
   "outputs": [
    {
     "name": "stdout",
     "output_type": "stream",
     "text": [
      "Get 'A-'\n"
     ]
    }
   ],
   "source": [
    "def calculate_grade(percentage):\n",
    "    \n",
    "    if (100<=percentage>=80):\n",
    "        print(\"Get 'A+'\")\n",
    "    elif(percentage>=70):\n",
    "        print(\"Get 'A'\")\n",
    "    elif(percentage>=60):\n",
    "        print(\"Get 'A-'\")\n",
    "    elif(percentage>=50):\n",
    "        print(\"Get 'B'\")\n",
    "    elif(percentage>=40):\n",
    "        print(\"Get 'C'\")\n",
    "    elif(percentage<40):\n",
    "        print(\"Get 'Fail'\")\n",
    "    else: \n",
    "        print(\"Invalied Number\")\n",
    "    \n",
    "#calling function\n",
    "calculate_grade(60)\n",
    "        \n",
    "    "
   ]
  },
  {
   "cell_type": "markdown",
   "id": "c8e015f2",
   "metadata": {},
   "source": [
    "### Question:-11\n",
    "#### Write a program that prints the first 'n' natural numbers."
   ]
  },
  {
   "cell_type": "code",
   "execution_count": 14,
   "id": "adffec58",
   "metadata": {},
   "outputs": [
    {
     "name": "stdout",
     "output_type": "stream",
     "text": [
      "Enter the value of n : 6\n",
      "1\n",
      "2\n",
      "3\n",
      "4\n",
      "5\n",
      "6\n"
     ]
    }
   ],
   "source": [
    "n =int(input(\"Enter the value of n : \"))\n",
    "\n",
    "for i in range(n):\n",
    "    print(i+1)#Natural numbers are all positive integers from 1 to infinity."
   ]
  },
  {
   "cell_type": "markdown",
   "id": "670cf306",
   "metadata": {},
   "source": [
    "### Question:-12\n",
    "#### Write a program that calculates the factorial of a number."
   ]
  },
  {
   "cell_type": "code",
   "execution_count": 15,
   "id": "34ab3c93",
   "metadata": {},
   "outputs": [
    {
     "data": {
      "text/plain": [
       "120"
      ]
     },
     "execution_count": 15,
     "metadata": {},
     "output_type": "execute_result"
    }
   ],
   "source": [
    "def fact(n):\n",
    "    if  n==1:\n",
    "        return 1\n",
    "    else:\n",
    "        return n*fact(n-1) \n",
    "    \n",
    "fact(5)    "
   ]
  },
  {
   "cell_type": "markdown",
   "id": "9162c1a4",
   "metadata": {},
   "source": [
    "### Question:-13\n",
    "#### Write a program that generates a fibonacci sequence of length 'n'."
   ]
  },
  {
   "cell_type": "code",
   "execution_count": 20,
   "id": "4a70bdd5",
   "metadata": {},
   "outputs": [
    {
     "name": "stdout",
     "output_type": "stream",
     "text": [
      "Enter the value of n = 9\n",
      "0\n",
      "1\n",
      "1\n",
      "2\n",
      "3\n",
      "5\n",
      "8\n",
      "13\n",
      "21\n"
     ]
    }
   ],
   "source": [
    "#0 1 1 2 3 5 ..... is a fibonacci series\n",
    "\n",
    "\n",
    "a = 0 \n",
    "b = 1\n",
    "\n",
    "fibo = int(input(\"Enter the value of n = \"))\n",
    "\n",
    "if fibo==1:\n",
    "    print(1)\n",
    "else:\n",
    "    print(a)\n",
    "    print(b)\n",
    "    \n",
    "for i in range(2,fibo):\n",
    "    f = a+b\n",
    "    a=b\n",
    "    b=f\n",
    "    print(f)\n",
    "    \n"
   ]
  },
  {
   "cell_type": "markdown",
   "id": "b7256494",
   "metadata": {},
   "source": [
    "### Question:-14\n",
    "#### Write a program that checks if a given number is prime or not."
   ]
  },
  {
   "cell_type": "code",
   "execution_count": 24,
   "id": "ba26940e",
   "metadata": {},
   "outputs": [
    {
     "name": "stdout",
     "output_type": "stream",
     "text": [
      "Enter the number here: 9\n",
      "It is not prime Number .\n"
     ]
    }
   ],
   "source": [
    "z = int(input(\"Enter the number here: \"))\n",
    "\n",
    "if z <= 1:\n",
    "    print(\"It can not be  a prime number.\")\n",
    "else:\n",
    "    for i in range (2, z ):\n",
    "        if z% i ==0:\n",
    "            print (\"It is not prime Number .\")\n",
    "            break\n",
    "    else:\n",
    "            print(\"It is prime number.\")"
   ]
  },
  {
   "cell_type": "markdown",
   "id": "d9757987",
   "metadata": {},
   "source": [
    "### Question:-15\n",
    "#### Write a program that prints the multiplication table of a given number."
   ]
  },
  {
   "cell_type": "code",
   "execution_count": 31,
   "id": "ee1400a2",
   "metadata": {},
   "outputs": [
    {
     "name": "stdout",
     "output_type": "stream",
     "text": [
      "Enter the value of n = 5\n",
      "5 * 1 = 5\n",
      "5 * 2 = 10\n",
      "5 * 3 = 15\n",
      "5 * 4 = 20\n",
      "5 * 5 = 25\n",
      "5 * 6 = 30\n",
      "5 * 7 = 35\n",
      "5 * 8 = 40\n",
      "5 * 9 = 45\n",
      "5 * 10 = 50\n"
     ]
    }
   ],
   "source": [
    "mult = int(input(\"Enter the value of n = \"))\n",
    "\n",
    "for i in range (1,11):\n",
    "    print(mult ,\"*\",i,\"=\",mult * i)"
   ]
  },
  {
   "cell_type": "markdown",
   "id": "8ed9f75d",
   "metadata": {},
   "source": [
    "### Question:-16\n",
    "#### Write a program that finds the sum of all even numbers between 1 and 'n'."
   ]
  },
  {
   "cell_type": "code",
   "execution_count": 34,
   "id": "03d476cf",
   "metadata": {},
   "outputs": [
    {
     "name": "stdout",
     "output_type": "stream",
     "text": [
      "Enter the value of n = 100\n",
      "The sum of all even numbers up to 100  is  2450\n"
     ]
    }
   ],
   "source": [
    "sum = 0\n",
    "num_ber = int(input(\"Enter the value of n = \"))\n",
    "for i in range(1,num_ber):\n",
    "     if i % 2 == 0:\n",
    "        sum = sum+i\n",
    "\n",
    "print(\"The sum of all even numbers up to\",num_ber,\" is \" , sum)"
   ]
  },
  {
   "cell_type": "markdown",
   "id": "499dc86f",
   "metadata": {},
   "source": [
    "### Question:-17\n",
    "#### Write a program that reverses a given number."
   ]
  },
  {
   "cell_type": "code",
   "execution_count": 41,
   "id": "a520a922",
   "metadata": {},
   "outputs": [
    {
     "name": "stdout",
     "output_type": "stream",
     "text": [
      "Enter number : 683524\n",
      "425386\n"
     ]
    }
   ],
   "source": [
    "#As the given value is numeric\n",
    "\n",
    "num_rev = int(input(\"Enter number : \"))\n",
    "temp = num_rev\n",
    "rev = 0\n",
    "\n",
    "while (num_rev > 0):\n",
    "    rem = num_rev %10\n",
    "    rev = rev*10+rem\n",
    "    num_rev = num_rev // 10\n",
    "    \n",
    "print(rev)    \n",
    "    "
   ]
  },
  {
   "cell_type": "code",
   "execution_count": 37,
   "id": "fd041962",
   "metadata": {},
   "outputs": [
    {
     "name": "stdout",
     "output_type": "stream",
     "text": [
      "Enter number = 865324\n",
      "423568\n"
     ]
    }
   ],
   "source": [
    "# As the given value is in string datatype\n",
    "\n",
    "value  = input(\"Enter number = \")\n",
    "value_rev = value[::-1]\n",
    "print(value_rev)"
   ]
  },
  {
   "cell_type": "markdown",
   "id": "fb16f559",
   "metadata": {},
   "source": [
    "### Question:-18\n",
    "#### Write a program that checks if a given string is a palindrome ."
   ]
  },
  {
   "cell_type": "code",
   "execution_count": 36,
   "id": "238962bf",
   "metadata": {},
   "outputs": [
    {
     "name": "stdout",
     "output_type": "stream",
     "text": [
      "Enter the string : eoe\n",
      "It is palindrome\n"
     ]
    }
   ],
   "source": [
    "st = input(\"Enter the string : \" )\n",
    "\n",
    "strRev = st[::-1]\n",
    "\n",
    "if st ==strRev:\n",
    "    print(\"It is palindrome\")\n",
    "else:\n",
    "    print(\"It is not palindrom\")\n",
    "    "
   ]
  },
  {
   "cell_type": "markdown",
   "id": "4874edb2",
   "metadata": {},
   "source": [
    "### Question:-19\n",
    "#### Write a program that generates a random number and allows the user to guess it."
   ]
  },
  {
   "cell_type": "code",
   "execution_count": 46,
   "id": "23782b1a",
   "metadata": {},
   "outputs": [
    {
     "name": "stdout",
     "output_type": "stream",
     "text": [
      "Enter a number as you guess between 1 to 100 = 44\n",
      "Too high! Try again.\n"
     ]
    }
   ],
   "source": [
    "import random \n",
    "\n",
    "number_to_guess = random.randint(1,100)\n",
    "user_guess = int(input(\"Enter a number as you guess between 1 to 100 = \"))\n",
    "\n",
    "if number_to_guess < user_guess:\n",
    "    print(\"Too high! Try again.\")\n",
    "    \n",
    "elif number_to_guess > user_guess: \n",
    "    print(\"Too low! Try again.\")\n",
    "else:\n",
    "    print(\"You guess the correct number\")"
   ]
  },
  {
   "cell_type": "markdown",
   "id": "e64e8830",
   "metadata": {},
   "source": [
    "### Question:-20\n",
    "#### Write a program that finds the greatest common divisor(GCD) of two numbers."
   ]
  },
  {
   "cell_type": "code",
   "execution_count": 48,
   "id": "a2ce3e0b",
   "metadata": {},
   "outputs": [
    {
     "name": "stdout",
     "output_type": "stream",
     "text": [
      "Enter the first number: 36\n",
      "Enter the second number: 24\n",
      "The GCD of 36 and 24 is: 12\n"
     ]
    }
   ],
   "source": [
    "num11 = int(input(\"Enter the first number: \"))\n",
    "num22 = int(input(\"Enter the second number: \"))\n",
    "\n",
    "def gcd(a, b):\n",
    "    while b != 0:\n",
    "        a, b = b, a % b\n",
    "    return a\n",
    "\n",
    "\n",
    "print(\"The GCD of\", num11, \"and\", num22, \"is:\", gcd(num11, num22))"
   ]
  }
 ],
 "metadata": {
  "kernelspec": {
   "display_name": "Python 3 (ipykernel)",
   "language": "python",
   "name": "python3"
  },
  "language_info": {
   "codemirror_mode": {
    "name": "ipython",
    "version": 3
   },
   "file_extension": ".py",
   "mimetype": "text/x-python",
   "name": "python",
   "nbconvert_exporter": "python",
   "pygments_lexer": "ipython3",
   "version": "3.11.5"
  }
 },
 "nbformat": 4,
 "nbformat_minor": 5
}
